# Embeddings e RAG com Azure OpenAI + pgvector

import os
import json
import psycopg2
import numpy as np
from azure.identity import DefaultAzureCredential
from openai import AzureOpenAI
from PyPDF2 import PdfReader
import glob

# Conexão com Azure OpenAI
llm = AzureOpenAI(
    api_version="2023-07-01-preview",
    azure_endpoint="https://<your-openai-resource>.openai.azure.com/",
    azure_deployment="text-embedding-ada-002",
    credential=DefaultAzureCredential()
)

# Caminho dos PDFs no Lakehouse (ADLS Gen2)
pdf_path = "/lakehouse/default/Files/raw/*.pdf"
arquivos = glob.glob(pdf_path)

# Conexão com PostgreSQL via Managed Identity
credential = DefaultAzureCredential()
access_token = credential.get_token("https://ossrdbms-aad.database.windows.net").token

conn = psycopg2.connect(
    host="ri-postgres.postgres.database.azure.com",
    dbname="ri_core",
    user="adminuser@ri-postgres",
    password=access_token,
    sslmode="require"
)
cur = conn.cursor()

# Criação da tabela vetorial
cur.execute("""
CREATE TABLE IF NOT EXISTS ri_embeddings (
  id SERIAL PRIMARY KEY,
  empresa TEXT,
  trimestre TEXT,
  texto TEXT,
  embedding VECTOR(1536)
)
""")
conn.commit()

# Geração de embeddings
for file in arquivos:
    ticker = os.path.basename(file).replace(".pdf", "")
    reader = PdfReader(file)
    texto = "\n".join([page.extract_text() for page in reader.pages if page.extract_text()])
    embedding = llm.embeddings.create(input=[texto], model="text-embedding-ada-002").data[0].embedding
    cur.execute("INSERT INTO ri_embeddings (empresa, trimestre, texto, embedding) VALUES (%s, %s, %s, %s)",
                (ticker, "Q2-2025", texto, embedding))
    conn.commit()
    print(f"[✓] Embedding gravado para {ticker}")

