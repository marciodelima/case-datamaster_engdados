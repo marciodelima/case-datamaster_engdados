# Análise de Relatórios de RI com Azure OpenAI
# Executa diariamente após ingestão

import os
import json
from azure.identity import DefaultAzureCredential
from openai import AzureOpenAI
from PyPDF2 import PdfReader
import glob
import psycopg2

# Conexão com Azure OpenAI
llm = AzureOpenAI(
    api_version="2023-07-01-preview",
    azure_endpoint="https://<your-openai-resource>.openai.azure.com/",
    azure_deployment="gpt-4",
    credential=DefaultAzureCredential()
)

# Função de análise
def avaliar_relatorio_ri(texto, empresa):
    prompt = f"""
    Você é um analista financeiro especializado em ações brasileiras. Avalie o relatório de RI da empresa {empresa} com base nos seguintes critérios:

    1. Demonstrações financeiras: receita líquida, Ebitda, lucro líquido, margens.
    2. Desempenho das receitas e lucros: crescimento comparado ao período anterior.
    3. Grau de endividamento: nível de dívida e impacto no fluxo de caixa.
    4. Atividade e projeções: novos projetos, estratégias e previsões futuras.
    5. Governança e riscos: estrutura de governança e principais riscos.

    Para cada item, classifique como "bom", "regular" ou "ruim" e justifique brevemente. Ao final, atribua uma nota de desempenho geral de 0 a 10.

    Texto do relatório:
    {texto}

    Responda em JSON com os campos: "empresa", "trimestre", "avaliacoes", "nota_final"
    """
    response = llm.chat.completions.create(
        messages=[{"role": "user", "content": prompt}],
        model="gpt-4",
        temperature=0.3
    )
    return json.loads(response.choices[0].message.content)

# Caminho dos PDFs
pdf_path = "/lakehouse/default/Files/raw/*.pdf"
arquivos = glob.glob(pdf_path)

# Conexão com PostgreSQL via Managed Identity
credential = DefaultAzureCredential()
access_token = credential.get_token("https://ossrdbms-aad.database.windows.net").token

conn = psycopg2.connect(
    host="ri-postgres.postgres.database.azure.com",
    dbname="ri_core",
    user="adminuser@ri-postgres",
    password=access_token,
    sslmode="require"
)
cur = conn.cursor()

# Processamento dos PDFs
for file in arquivos:
    ticker = os.path.basename(file).replace(".pdf", "")
    reader = PdfReader(file)
    texto = "\n".join([page.extract_text() for page in reader.pages if page.extract_text()])
    resultado = avaliar_relatorio_ri(texto, ticker)

    # Grava no banco vetorial (exemplo: tabela json_ri)
    cur.execute("INSERT INTO json_ri (empresa, trimestre, json_resultado) VALUES (%s, %s, %s)",
                (resultado["empresa"], resultado["trimestre"], json.dumps(resultado)))
    conn.commit()
    print(f"[✓] Análise gravada para {ticker}")

